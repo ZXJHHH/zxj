{
 "cells": [
  {
   "cell_type": "code",
   "execution_count": 1,
   "metadata": {},
   "outputs": [],
   "source": [
    "# 导入必要的库\n",
    "import numpy as np\n",
    "import pandas as pd\n",
    "from tensorflow.keras.models import Model\n",
    "from tensorflow.keras.layers import Input, Embedding, Flatten, Concatenate, Dense, Dropout\n",
    "from sklearn.model_selection import train_test_split\n",
    "from sklearn.metrics import mean_absolute_error\n",
    "from tensorflow.keras.optimizers import Adam\n",
    "\n",
    "# 加载数据\n",
    "ratings = pd.read_csv('ratings.csv', sep='\\t', encoding='latin-1', usecols=['user_id', 'movie_id', 'rating'])\n",
    "\n",
    "# 获取用户和电影的最大ID\n",
    "n_users = ratings['user_id'].max() + 1\n",
    "n_movies = ratings['movie_id'].max() + 1"
   ]
  },
  {
   "cell_type": "code",
   "execution_count": 2,
   "metadata": {},
   "outputs": [],
   "source": [
    "# 划分训练集和测试集\n",
    "X = ratings[['user_id', 'movie_id']].values\n",
    "y = ratings['rating'].values\n",
    "X_train, X_test, y_train, y_test = train_test_split(X, y, test_size=0.2, random_state=42)"
   ]
  },
  {
   "cell_type": "code",
   "execution_count": 3,
   "metadata": {},
   "outputs": [
    {
     "name": "stdout",
     "output_type": "stream",
     "text": [
      "WARNING:tensorflow:From d:\\anaconda\\envs\\py37\\lib\\site-packages\\tensorflow_core\\python\\keras\\initializers.py:119: calling RandomUniform.__init__ (from tensorflow.python.ops.init_ops) with dtype is deprecated and will be removed in a future version.\n",
      "Instructions for updating:\n",
      "Call initializer instance with the dtype argument instead of passing it to the constructor\n",
      "WARNING:tensorflow:From d:\\anaconda\\envs\\py37\\lib\\site-packages\\tensorflow_core\\python\\ops\\resource_variable_ops.py:1630: calling BaseResourceVariable.__init__ (from tensorflow.python.ops.resource_variable_ops) with constraint is deprecated and will be removed in a future version.\n",
      "Instructions for updating:\n",
      "If using Keras pass *_constraint arguments to layers.\n"
     ]
    }
   ],
   "source": [
    "# 构建模型\n",
    "# 用户嵌入\n",
    "user_input = Input(shape=(1,), name='user_input')\n",
    "user_embedding = Embedding(input_dim=n_users, output_dim=50, name='user_embedding')(user_input)\n",
    "user_vector = Flatten(name='user_vector')(user_embedding)\n",
    "\n",
    "# 电影嵌入\n",
    "movie_input = Input(shape=(1,), name='movie_input')\n",
    "movie_embedding = Embedding(input_dim=n_movies, output_dim=50, name='movie_embedding')(movie_input)\n",
    "movie_vector = Flatten(name='movie_vector')(movie_embedding)\n",
    "\n",
    "# 拼接用户和电影向量\n",
    "concat = Concatenate(name='concat')([user_vector, movie_vector])"
   ]
  },
  {
   "cell_type": "code",
   "execution_count": 4,
   "metadata": {},
   "outputs": [],
   "source": [
    "# 全连接层\n",
    "dense1 = Dense(128, activation='relu', name='dense1')(concat)\n",
    "dropout1 = Dropout(0.2, name='dropout1')(dense1)\n",
    "dense2 = Dense(64, activation='relu', name='dense2')(dropout1)\n",
    "dropout2 = Dropout(0.2, name='dropout2')(dense2)\n",
    "\n",
    "# 输出评分\n",
    "output = Dense(1, activation='linear', name='output')(dropout2)"
   ]
  },
  {
   "cell_type": "code",
   "execution_count": 5,
   "metadata": {},
   "outputs": [],
   "source": [
    "# 构建和编译模型\n",
    "# 设置自定义学习率\n",
    "optimizer = Adam(learning_rate=0.001)\n",
    "model = Model(inputs=[user_input, movie_input], outputs=output)\n",
    "model.compile(optimizer=optimizer, loss='mean_squared_error', metrics=['mae'])"
   ]
  },
  {
   "cell_type": "code",
   "execution_count": null,
   "metadata": {},
   "outputs": [
    {
     "name": "stdout",
     "output_type": "stream",
     "text": [
      "Model: \"model\"\n",
      "__________________________________________________________________________________________________\n",
      "Layer (type)                    Output Shape         Param #     Connected to                     \n",
      "==================================================================================================\n",
      "user_input (InputLayer)         [(None, 1)]          0                                            \n",
      "__________________________________________________________________________________________________\n",
      "movie_input (InputLayer)        [(None, 1)]          0                                            \n",
      "__________________________________________________________________________________________________\n",
      "user_embedding (Embedding)      (None, 1, 50)        302050      user_input[0][0]                 \n",
      "__________________________________________________________________________________________________\n",
      "movie_embedding (Embedding)     (None, 1, 50)        197650      movie_input[0][0]                \n",
      "__________________________________________________________________________________________________\n",
      "user_vector (Flatten)           (None, 50)           0           user_embedding[0][0]             \n",
      "__________________________________________________________________________________________________\n",
      "movie_vector (Flatten)          (None, 50)           0           movie_embedding[0][0]            \n",
      "__________________________________________________________________________________________________\n",
      "concat (Concatenate)            (None, 100)          0           user_vector[0][0]                \n",
      "                                                                 movie_vector[0][0]               \n",
      "__________________________________________________________________________________________________\n",
      "dense1 (Dense)                  (None, 128)          12928       concat[0][0]                     \n",
      "__________________________________________________________________________________________________\n",
      "dropout1 (Dropout)              (None, 128)          0           dense1[0][0]                     \n",
      "__________________________________________________________________________________________________\n",
      "dense2 (Dense)                  (None, 64)           8256        dropout1[0][0]                   \n",
      "__________________________________________________________________________________________________\n",
      "dropout2 (Dropout)              (None, 64)           0           dense2[0][0]                     \n",
      "__________________________________________________________________________________________________\n",
      "output (Dense)                  (None, 1)            65          dropout2[0][0]                   \n",
      "==================================================================================================\n",
      "Total params: 520,949\n",
      "Trainable params: 520,949\n",
      "Non-trainable params: 0\n",
      "__________________________________________________________________________________________________\n",
      "Train on 800167 samples, validate on 200042 samples\n",
      "Epoch 1/5\n",
      "330432/800167 [===========>..................] - ETA: 27s - loss: 1.0976 - mean_absolute_error: 0.8256"
     ]
    }
   ],
   "source": [
    "# 查看模型结构\n",
    "model.summary()\n",
    "\n",
    "# 训练模型\n",
    "history = model.fit(\n",
    "    [X_train[:, 0], X_train[:, 1]], y_train,\n",
    "    validation_data=([X_test[:, 0], X_test[:, 1]], y_test),\n",
    "    batch_size=64,\n",
    "    epochs=5,\n",
    "    verbose=1\n",
    ")\n",
    "\n",
    "# 预测示例\n",
    "y_pred = model.predict([X_test[:, 0], X_test[:, 1]])\n",
    "print(f\"预测示例: {y_pred[:10].flatten()}\")\n",
    "print(f\"真实值示例: {y_test[:10]}\")\n"
   ]
  },
  {
   "cell_type": "code",
   "execution_count": null,
   "metadata": {},
   "outputs": [],
   "source": [
    "# 原始输出\n",
    "print(\"\\n训练日志:\")\n",
    "for key in history.history:\n",
    "    print(f\"{key}: {history.history[key]}\")\n",
    "\n",
    "# 计算 RMSE\n",
    "rmse = np.sqrt(np.mean((y_pred.flatten() - y_test) ** 2))\n",
    "print(f\"\\n测试集上的 RMSE: {rmse:.4f}\")\n",
    "\n",
    "# 计算 MAE\n",
    "mae = mean_absolute_error(y_test, y_pred.flatten())\n",
    "print(f\"\\n测试集上的 MAE: {mae:.4f}\")\n"
   ]
  }
 ],
 "metadata": {
  "kernelspec": {
   "display_name": "py37",
   "language": "python",
   "name": "python3"
  },
  "language_info": {
   "codemirror_mode": {
    "name": "ipython",
    "version": 3
   },
   "file_extension": ".py",
   "mimetype": "text/x-python",
   "name": "python",
   "nbconvert_exporter": "python",
   "pygments_lexer": "ipython3",
   "version": "3.7.12"
  }
 },
 "nbformat": 4,
 "nbformat_minor": 2
}
