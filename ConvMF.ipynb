{
 "cells": [
  {
   "cell_type": "code",
   "execution_count": 1,
   "metadata": {},
   "outputs": [],
   "source": [
    "import numpy as np\n",
    "import pandas as pd\n",
    "from tensorflow.keras.models import Model\n",
    "from tensorflow.keras.layers import Input, Embedding, Conv1D, Flatten, Dense, Dropout, Concatenate, Reshape\n",
    "from tensorflow.keras.layers import GlobalMaxPooling1D\n",
    "from sklearn.model_selection import train_test_split\n",
    "from sklearn.metrics import mean_absolute_error\n",
    "from tensorflow.keras.optimizers import Adam\n",
    "\n",
    "# 加载数据\n",
    "ratings = pd.read_csv('ratings.csv', sep='\\t', encoding='latin-1', usecols=['user_id', 'movie_id', 'rating'])\n",
    "\n",
    "# 获取用户和电影的最大ID\n",
    "n_users = ratings['user_id'].max() + 1\n",
    "n_movies = ratings['movie_id'].max() + 1"
   ]
  },
  {
   "cell_type": "code",
   "execution_count": 2,
   "metadata": {},
   "outputs": [],
   "source": [
    "# 划分训练集和测试集\n",
    "X = ratings[['user_id', 'movie_id']].values\n",
    "y = ratings['rating'].values\n",
    "X_train, X_test, y_train, y_test = train_test_split(X, y, test_size=0.2, random_state=42)"
   ]
  },
  {
   "cell_type": "code",
   "execution_count": 3,
   "metadata": {},
   "outputs": [
    {
     "name": "stdout",
     "output_type": "stream",
     "text": [
      "WARNING:tensorflow:From d:\\anaconda\\envs\\py37\\lib\\site-packages\\tensorflow_core\\python\\keras\\initializers.py:119: calling RandomUniform.__init__ (from tensorflow.python.ops.init_ops) with dtype is deprecated and will be removed in a future version.\n",
      "Instructions for updating:\n",
      "Call initializer instance with the dtype argument instead of passing it to the constructor\n",
      "WARNING:tensorflow:From d:\\anaconda\\envs\\py37\\lib\\site-packages\\tensorflow_core\\python\\ops\\resource_variable_ops.py:1630: calling BaseResourceVariable.__init__ (from tensorflow.python.ops.resource_variable_ops) with constraint is deprecated and will be removed in a future version.\n",
      "Instructions for updating:\n",
      "If using Keras pass *_constraint arguments to layers.\n"
     ]
    }
   ],
   "source": [
    "# 构建ConvMF模型\n",
    "# 用户嵌入\n",
    "user_input = Input(shape=(1,), name='user_input')\n",
    "user_embedding = Embedding(input_dim=n_users, output_dim=50, name='user_embedding')(user_input)\n",
    "user_vector = Flatten(name='user_vector')(user_embedding)\n"
   ]
  },
  {
   "cell_type": "code",
   "execution_count": 4,
   "metadata": {},
   "outputs": [],
   "source": [
    "# 电影嵌入\n",
    "movie_input = Input(shape=(1,), name='movie_input')\n",
    "movie_embedding = Embedding(input_dim=n_movies, output_dim=50, name='movie_embedding')(movie_input)\n",
    "movie_vector = Flatten(name='movie_vector')(movie_embedding)\n"
   ]
  },
  {
   "cell_type": "code",
   "execution_count": 5,
   "metadata": {},
   "outputs": [],
   "source": [
    "# 拼接用户和电影向量\n",
    "concat = Concatenate(name='concat')([user_vector, movie_vector])\n",
    "\n",
    "# 对拼接后的向量应用卷积层\n",
    "concat_expanded = Reshape((100, 1))(concat)  # 扩展为适合卷积操作的形状\n",
    "\n",
    "conv1 = Conv1D(64, 3, activation='relu', padding='same', name='conv1')(concat_expanded)\n",
    "pool1 = GlobalMaxPooling1D(name='pool1')(conv1)\n",
    "\n",
    "# 全连接层\n",
    "dense1 = Dense(128, activation='relu', name='dense1')(pool1)\n",
    "dropout1 = Dropout(0.2, name='dropout1')(dense1)\n",
    "dense2 = Dense(64, activation='relu', name='dense2')(dropout1)\n",
    "dropout2 = Dropout(0.2, name='dropout2')(dense2)\n",
    "# 输出评分\n",
    "output = Dense(1, activation='linear', name='output')(dropout2)\n"
   ]
  },
  {
   "cell_type": "code",
   "execution_count": null,
   "metadata": {},
   "outputs": [
    {
     "name": "stdout",
     "output_type": "stream",
     "text": [
      "Model: \"model\"\n",
      "__________________________________________________________________________________________________\n",
      "Layer (type)                    Output Shape         Param #     Connected to                     \n",
      "==================================================================================================\n",
      "user_input (InputLayer)         [(None, 1)]          0                                            \n",
      "__________________________________________________________________________________________________\n",
      "movie_input (InputLayer)        [(None, 1)]          0                                            \n",
      "__________________________________________________________________________________________________\n",
      "user_embedding (Embedding)      (None, 1, 50)        302050      user_input[0][0]                 \n",
      "__________________________________________________________________________________________________\n",
      "movie_embedding (Embedding)     (None, 1, 50)        197650      movie_input[0][0]                \n",
      "__________________________________________________________________________________________________\n",
      "user_vector (Flatten)           (None, 50)           0           user_embedding[0][0]             \n",
      "__________________________________________________________________________________________________\n",
      "movie_vector (Flatten)          (None, 50)           0           movie_embedding[0][0]            \n",
      "__________________________________________________________________________________________________\n",
      "concat (Concatenate)            (None, 100)          0           user_vector[0][0]                \n",
      "                                                                 movie_vector[0][0]               \n",
      "__________________________________________________________________________________________________\n",
      "reshape (Reshape)               (None, 100, 1)       0           concat[0][0]                     \n",
      "__________________________________________________________________________________________________\n",
      "conv1 (Conv1D)                  (None, 100, 64)      256         reshape[0][0]                    \n",
      "__________________________________________________________________________________________________\n",
      "pool1 (GlobalMaxPooling1D)      (None, 64)           0           conv1[0][0]                      \n",
      "__________________________________________________________________________________________________\n",
      "dense1 (Dense)                  (None, 128)          8320        pool1[0][0]                      \n",
      "__________________________________________________________________________________________________\n",
      "dropout1 (Dropout)              (None, 128)          0           dense1[0][0]                     \n",
      "__________________________________________________________________________________________________\n",
      "dense2 (Dense)                  (None, 64)           8256        dropout1[0][0]                   \n",
      "__________________________________________________________________________________________________\n",
      "dropout2 (Dropout)              (None, 64)           0           dense2[0][0]                     \n",
      "__________________________________________________________________________________________________\n",
      "output (Dense)                  (None, 1)            65          dropout2[0][0]                   \n",
      "==================================================================================================\n",
      "Total params: 516,597\n",
      "Trainable params: 516,597\n",
      "Non-trainable params: 0\n",
      "__________________________________________________________________________________________________\n",
      "Train on 800167 samples, validate on 200042 samples\n",
      "Epoch 1/5\n",
      "800167/800167 [==============================] - 52s 65us/sample - loss: 3.1727 - mean_absolute_error: 1.3683 - val_loss: 1.1268 - val_mean_absolute_error: 0.8824\n",
      "Epoch 2/5\n",
      "800167/800167 [==============================] - 53s 67us/sample - loss: 1.2162 - mean_absolute_error: 0.8903 - val_loss: 1.0033 - val_mean_absolute_error: 0.8106\n",
      "Epoch 3/5\n",
      "238144/800167 [=======>......................] - ETA: 45s - loss: 1.1296 - mean_absolute_error: 0.8549"
     ]
    }
   ],
   "source": [
    "# 设置自定义学习率\n",
    "optimizer = Adam(learning_rate=0.00001)\n",
    "# 构建和编译模型\n",
    "model = Model(inputs=[user_input, movie_input], outputs=output)\n",
    "model.compile(optimizer=optimizer, loss='mean_squared_error', metrics=['mae'])\n",
    "\n",
    "# 查看模型结构\n",
    "model.summary()\n",
    "\n",
    "# 训练模型\n",
    "history = model.fit(\n",
    "    [X_train[:, 0], X_train[:, 1]], y_train,\n",
    "    validation_data=([X_test[:, 0], X_test[:, 1]], y_test),\n",
    "    batch_size=64,\n",
    "    epochs=5,\n",
    "    verbose=1\n",
    ")\n",
    "\n",
    "# 预测示例\n",
    "y_pred = model.predict([X_test[:, 0], X_test[:, 1]])\n",
    "print(f\"预测示例: {y_pred[:10].flatten()}\")\n",
    "print(f\"真实值示例: {y_test[:10]}\")"
   ]
  },
  {
   "cell_type": "code",
   "execution_count": null,
   "metadata": {},
   "outputs": [],
   "source": [
    "# 原始输出\n",
    "print(\"\\n训练日志:\")\n",
    "for key in history.history:\n",
    "    print(f\"{key}: {history.history[key]}\")\n",
    "\n",
    "# 计算 RMSE\n",
    "rmse = np.sqrt(np.mean((y_pred.flatten() - y_test) ** 2))\n",
    "print(f\"\\n测试集上的 RMSE: {rmse:.4f}\")\n",
    "\n",
    "# 计算 MAE\n",
    "mae = mean_absolute_error(y_test, y_pred.flatten())\n",
    "print(f\"\\n测试集上的 MAE: {mae:.4f}\")\n"
   ]
  }
 ],
 "metadata": {
  "kernelspec": {
   "display_name": "py37",
   "language": "python",
   "name": "python3"
  },
  "language_info": {
   "codemirror_mode": {
    "name": "ipython",
    "version": 3
   },
   "file_extension": ".py",
   "mimetype": "text/x-python",
   "name": "python",
   "nbconvert_exporter": "python",
   "pygments_lexer": "ipython3",
   "version": "3.7.12"
  }
 },
 "nbformat": 4,
 "nbformat_minor": 2
}
